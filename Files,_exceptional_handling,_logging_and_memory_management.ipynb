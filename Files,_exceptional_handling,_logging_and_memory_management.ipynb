{
  "nbformat": 4,
  "nbformat_minor": 0,
  "metadata": {
    "colab": {
      "provenance": []
    },
    "kernelspec": {
      "name": "python3",
      "display_name": "Python 3"
    },
    "language_info": {
      "name": "python"
    }
  },
  "cells": [
    {
      "cell_type": "markdown",
      "source": [
        "# Files, exceptional handling, logging and memory management theoretical Questions\n",
        "\n",
        "\n",
        "---\n",
        "\n",
        "\n",
        "\n",
        "---\n",
        "\n",
        "\n",
        "\n"
      ],
      "metadata": {
        "id": "NNQrIT7Dt-OD"
      }
    },
    {
      "cell_type": "markdown",
      "source": [
        "1.  **What is the difference between interpreted and compiled languages.**\n",
        "\n",
        "   - 1. **Interpreted Language Definition:**  Code is executed line-by-line by an interpreter at runtime.\n",
        "\n",
        "  **Examples:**\n",
        "\n",
        " Python, JavaScript, Ruby\n",
        "\n",
        "  **How it works:**\n",
        "\n",
        " No separate compilation step; the interpreter reads and executes the code directly.\n",
        "\n",
        "   Pros:\n",
        "\n",
        " Easy to test and debug\n",
        "\n",
        "  More portable (runs on any system with the interpreter)\n",
        "\n",
        " ** Cons:**\n",
        "\n",
        "  Slower execution speed (because of line-by-line interpretation)\n",
        "\n",
        "  2. **Compiled Language**\n",
        "\n",
        "Definition:\n",
        "\n",
        " Code is first translated into machine code by a compiler before execution.\n",
        "\n",
        "Examples:\n",
        "\n",
        " C, C++, Java (partially compiled to bytecode), Go\n",
        "\n",
        "How it works:\n",
        "\n",
        "Entire program is compiled into an executable before running.\n",
        "\n",
        " Pros:\n",
        "\n",
        "Faster execution (runs native machine code)\n",
        "\n",
        "Better optimization by compiler\n",
        "\n",
        " Cons:\n",
        "\n",
        "Slower to test (requires recompiling after every change)\n",
        "\n",
        "Less portable (compiled for a specific OS/architecture)\n",
        "\n"
      ],
      "metadata": {
        "id": "FLxSJCDXu3Ib"
      }
    },
    {
      "cell_type": "markdown",
      "source": [
        "2.   **What is exception handling in Python**\n",
        "\n",
        "    - An exception is an error that occurs during the execution of a program.\n",
        "    \n",
        "    For example:\n",
        "                 \n",
        "                  print(10 / 0)  # ZeroDivisionError\n",
        "\n",
        " This causes an exception because division by zero is not allowed.\n",
        "\n"
      ],
      "metadata": {
        "id": "sUT8DrmYxYM1"
      }
    },
    {
      "cell_type": "markdown",
      "source": [
        "3. **What is the purpose of the finally block in exception handling.**  \n",
        "\n",
        "   - The finally block in Python's exception handling is used to define a block of code that will always be executed, no matter what—whether an exception was raised or not, and whether it was handled or not.\n",
        "\n",
        "**Purpose of finally Block**\n",
        "\n",
        "It ensures that important cleanup tasks are done:\n",
        "\n",
        "Closing files\n",
        "\n",
        "Releasing resources\n",
        "\n",
        "Disconnecting from a database\n",
        "\n",
        "Releasing locks\n",
        "\n",
        "**Example:**   \n",
        "   \n",
        "            try:\n",
        "                  file = open(\"example.txt\", \"r\")\n",
        "                  data = file.read()\n",
        "                  print(data)\n",
        "            except FileNotFoundError:\n",
        "                  print(\"File not found.\")\n",
        "            finally:\n",
        "                  print(\"Closing the file.\")\n",
        "                  file.close()  # This will run no matter what"
      ],
      "metadata": {
        "id": "8XvpaIlezS4t"
      }
    },
    {
      "cell_type": "markdown",
      "source": [
        "4.  **What is logging in Python**\n",
        "\n",
        "      -  Logging in Python is the process of tracking events that happen when your code runs. The logging module in Python provides a flexible framework for emitting log messages from Python programs.\n",
        "\n",
        "It’s commonly used for:\n",
        "\n",
        "Debugging\n",
        "\n",
        "Auditing\n",
        "\n",
        "Error tracking\n",
        "\n",
        "Performance monitoring"
      ],
      "metadata": {
        "id": "XiMzZnYwbVDZ"
      }
    },
    {
      "cell_type": "markdown",
      "source": [
        "5.  **What is the significance of the __del__ method in Python**\n",
        "\n",
        "    - The __del__ method in Python is a destructor method. It is called when an object is about to be destroyed (i.e., when there are no more references to it).\n",
        "\n",
        "\n",
        "** Purpose of __del__:**\n",
        "\n",
        "To perform cleanup operations like:\n",
        "\n",
        "Closing open files\n",
        "\n",
        "Releasing external resources (e.g., database connections)\n",
        "\n",
        "Logging destruction of an object\n",
        "\n"
      ],
      "metadata": {
        "id": "1KTb_EinbnU_"
      }
    },
    {
      "cell_type": "markdown",
      "source": [
        "6.  **What is the difference between import and from ... import in Python**\n",
        "\n",
        "   -  In Python, both import and from ... import are used to bring in modules and their components, but they do it differently.\n",
        "\n",
        "\n",
        "**import Statement**   \n",
        "\n",
        "                      \n",
        "                      import math\n",
        "                      print(math.sqrt(25))\n",
        "\n",
        "What it does:\n",
        "\n",
        "Imports the entire math module.\n",
        "\n",
        "You access functions or variables with the module name prefix (e.g., math.sqrt).\n",
        "\n",
        " **from ... import Statement**   \n",
        "\n",
        "\n",
        "                from math import sqrt\n",
        "                print(sqrt(25))  \n",
        "\n",
        "  What it does:\n",
        "\n",
        "Imports specific functions, classes, or variables from a module.\n",
        "\n",
        "You can use the imported component directly without the module name prefix."
      ],
      "metadata": {
        "id": "-6KIJ6LucJ9X"
      }
    },
    {
      "cell_type": "markdown",
      "source": [
        "7.   **How can you handle multiple exceptions in Python**\n",
        "\n",
        "      - In Python, you can handle multiple exceptions using several approaches within a try block.\n",
        "\n",
        "      1. Handling Multiple Exceptions with Multiple except Blocks\n",
        "\n",
        "              try:\n",
        "                 x = int(\"abc\")   # ValueError\n",
        "                 y = 10 / 0       # ZeroDivisionError\n",
        "              except ValueError:\n",
        "                print(\"Caught a ValueError!\")\n",
        "              except ZeroDivisionError:\n",
        "                print(\"Caught a ZeroDivisionError!\")   \n",
        "\n",
        "  Explanation:\n",
        "\n",
        "  Each except block catches a specific type of exception. Python checks them in order.\n",
        "\n",
        " 2. Handling Multiple Exceptions in One except Block (Tuple Form)  \n",
        "\n",
        "               try:\n",
        "                  x = int(\"abc\")  # ValueError\n",
        "               except (ValueError, TypeError):\n",
        "                  print(\"Caught a ValueError or TypeError!\")   \n",
        "\n",
        "Explanation:\n",
        "\n",
        "Use a tuple if the same handling logic applies to multiple exceptions.\n",
        "\n",
        " 3. Catching All Exceptions (Not Recommended Unless You Handle It Carefully)\n",
        "\n",
        "              try:\n",
        "                 some_code()\n",
        "             except Exception as e:\n",
        "                 print(f\"An error occurred: {e}\")\n",
        "\n",
        "Use carefully, especially in production code, because it catches everything, including bugs you might not expect\n",
        "\n",
        "4. else and finally Blocks with Multiple Exceptions\n",
        "\n",
        "\n",
        "     try:\n",
        "          print(\"Trying something\")\n",
        "           x = 1 / 1\n",
        "     except (ValueError, ZeroDivisionError) as e:\n",
        "          print(f\"Handled an error: {e}\")\n",
        "     else:\n",
        "          print(\"No exceptions occurred.\")\n",
        "     finally:\n",
        "          print(\"This always runs.\")\n",
        "\n",
        "\n",
        "\n"
      ],
      "metadata": {
        "id": "lQFVO_nYeXaZ"
      }
    },
    {
      "cell_type": "markdown",
      "source": [
        "8.  **What is the purpose of the with statement when handling files in Python**\n",
        "\n",
        "The with statement in Python is used for resource management, especially when handling files. It ensures that resources like file handles are properly opened and automatically closed, even if an error occurs during processing.\n",
        "\n",
        "Purpose of with Statement (Context Manager)\n",
        "\n",
        "When you use with to open a file:\n",
        "\n",
        "with open('example.txt', 'r') as file:\n",
        "      \n",
        "       content = file.read()\n",
        "       print(content)   \n",
        "\n",
        "\n",
        "It's equivalent to:\n",
        "\n",
        "      file = open('example.txt', 'r')\n",
        "      try:\n",
        "          content = file.read()\n",
        "          print(content)\n",
        "      finally:\n",
        "          file.close()"
      ],
      "metadata": {
        "id": "oMJNbSRDkANf"
      }
    },
    {
      "cell_type": "markdown",
      "source": [
        "9. **What is the difference between multithreading and multiprocessing**  \n",
        "\n",
        "    - The main difference between multithreading and multiprocessing in Python lies in how they handle tasks concurrently and how they utilize CPU cores:\n",
        "\n",
        "\n",
        "**Multithreading:**\n",
        "\n",
        "Uses multiple threads within a single process.\n",
        "\n",
        "Threads share the same memory space.\n",
        "\n",
        "Good for I/O-bound tasks (e.g., file I/O, web scraping, network operations).\n",
        "\n",
        "In CPython, it is limited by the Global Interpreter Lock (GIL), which allows only one thread to execute Python bytecode at a time.  \n",
        "\n",
        "\n",
        "            \n",
        "       from threading import Thread\n",
        "\n",
        "       def task():\n",
        "              print(\"Thread is running\")\n",
        "\n",
        "       t1 = Thread(target=task)\n",
        "       t1.start()    \n",
        "\n",
        "\n",
        "**Multiprocessing:**\n",
        "\n",
        "Uses multiple processes, each with its own memory space.\n",
        "\n",
        "Takes full advantage of multiple CPU cores.\n",
        "\n",
        "Ideal for CPU-bound tasks (e.g., data processing, mathematical computations).\n",
        "\n",
        "Bypasses GIL, so can run true parallel execution.   \n",
        "\n",
        "       \n",
        "     from multiprocessing import Process\n",
        "\n",
        "     def task():\n",
        "            print(\"Process is running\")\n",
        "\n",
        "     p1 = Process(target=task)\n",
        "     p1.start()"
      ],
      "metadata": {
        "id": "5Lsi4TmvovKk"
      }
    },
    {
      "cell_type": "markdown",
      "source": [
        "10.  **What are the advantages of using logging in a program**  \n",
        "\n",
        "     - Using logging in a Python program offers several important advantages over simple print() statements. Logging provides flexibility, control, and professionalism in monitoring and debugging your code.  \n",
        "\n",
        "     Advantages of Logging in Python\n",
        "\n",
        "  1. Better Debugging and Monitoring\n",
        "\n",
        "Tracks events, errors, warnings, and info messages during program execution.\n",
        "\n",
        "Helps identify when, where, and what went wrong.  \n",
        "\n",
        "2. Log to Files (Not Just Console)\n",
        "\n",
        "Stores logs in files for later analysis—unlike print() which only shows in real-time.\n",
        "\n",
        "     import logging\n",
        "     logging.basicConfig(filename='app.log', level=logging.INFO)\n",
        "     logging.info('This will go into the log file.')\n",
        "\n",
        "3. Different Log Levels\n",
        "\n",
        "Helps categorize messages by severity:\n",
        "\n",
        "DEBUG – Detailed info, for diagnosing problems.\n",
        "\n",
        "INFO – General events, like program start or finish.\n",
        "\n",
        "WARNING – Something unexpected, but not a crash.\n",
        "\n",
        "ERROR – A more serious problem.\n",
        "\n",
        "CRITICAL – Program may not continue.\n",
        "\n",
        "4.  Flexible Configuration\n",
        "\n",
        "Log to different outputs (console, file, syslog, remote server).\n",
        "\n",
        "Format messages with timestamps, source module, line numbers, etc.\n",
        "\n",
        "5.  Persistent and Searchable\n",
        "\n",
        "Keeps a historical record of activity, errors, and warnings.\n",
        "\n",
        "You can search logs later to diagnose bugs or performance issues.\n",
        "\n",
        "6.  Supports Large-Scale Applications\n",
        "Scalable for complex systems and multithreaded/multiprocess apps.\n",
        "\n",
        "Can be customized using Logger, Handler, Formatter, and Filter.\n",
        "\n",
        "7.  Professional Development\n",
        "Standard practice in industry-grade applications.\n",
        "\n",
        "Helps teams in DevOps, QA, and Support troubleshoot efficiently.\n",
        "\n",
        "\n",
        "\n",
        "\n",
        "\n",
        "\n"
      ],
      "metadata": {
        "id": "WG1VFb8hrE96"
      }
    },
    {
      "cell_type": "markdown",
      "source": [
        "11.  **What is memory management in Python**\n",
        "\n",
        "    - Memory management in Python refers to the process of allocating, using, and freeing memory during the execution of a Python program. It ensures that memory is used efficiently and that unused memory is released properly to avoid leaks or crashes."
      ],
      "metadata": {
        "id": "7EzX_u_BE1hP"
      }
    },
    {
      "cell_type": "markdown",
      "source": [
        "12. **What are the basic steps involved in exception handling in Python**\n",
        "\n",
        "     - Python provides a structured way to handle errors or exceptional situations during program execution using exception handling.\n",
        "\n",
        "     1. Use a try block\n",
        "\n",
        "     2. Add one or more except blocks\n",
        "\n",
        "     3. Optional else block\n",
        "\n",
        "    4. Optional finally block"
      ],
      "metadata": {
        "id": "bsJYrWjmFhNq"
      }
    },
    {
      "cell_type": "markdown",
      "source": [
        "13. **Why is memory management important in Python**\n",
        "\n",
        "   - Memory management is crucial in Python because it ensures that your program runs efficiently, avoids memory leaks, and doesn't crash due to excessive memory use.\n",
        "\n"
      ],
      "metadata": {
        "id": "QmDy7y6vGpXj"
      }
    },
    {
      "cell_type": "markdown",
      "source": [
        "14. **What is the role of try and except in exception handling**\n",
        "\n",
        "  - In Python, the try and except blocks are used to handle exceptions gracefully — that is, to prevent your program from crashing when something goes wrong.\n",
        "\n",
        "\n",
        "**try Block**:\n",
        "\n",
        "Used to wrap code that might cause an error.\n",
        "\n",
        "Python runs the code in the try block normally.\n",
        "\n",
        "If an exception occurs, it jumps to the except block.\n",
        "\n",
        "**except Block:**\n",
        "\n",
        "Catches the specific error and lets you respond to it.\n",
        "\n",
        "Prevents the program from crashing.\n",
        "\n",
        "You can print an error message, retry, log the error, etc."
      ],
      "metadata": {
        "id": "jpJjJmA3HDKj"
      }
    },
    {
      "cell_type": "markdown",
      "source": [
        "15. **How does Python's garbage collection system work**   \n",
        "\n",
        "   - Python’s garbage collection system is responsible for automatically managing memory by reclaiming memory occupied by objects that are no longer in use. This helps prevent memory leaks and makes memory handling easier for developers.\n",
        "\n",
        "\n",
        "Python uses two main techniques for garbage collection:\n",
        "\n",
        "1. Reference Counting (Primary Method)\n",
        "\n",
        "2. Cycle Detection (For Circular References)\n"
      ],
      "metadata": {
        "id": "ZBr1v_fXHjdL"
      }
    },
    {
      "cell_type": "markdown",
      "source": [
        "16. **What is the purpose of the else block in exception handling**\n",
        "\n",
        "    - In Python, the else block in exception handling is used to define a block of code that runs only if no exception was raised in the try block.\n",
        "\n",
        "\n",
        " Purpose of the else block:\n",
        "\n",
        "Keeps the try block focused only on the statements that might raise exceptions.\n",
        "\n",
        "Improves code clarity by separating the error-prone code (try) from the code that runs only if everything goes well (else)."
      ],
      "metadata": {
        "id": "ArypZGoNIkLM"
      }
    },
    {
      "cell_type": "markdown",
      "source": [
        "17.  **What are the common logging levels in Python**  \n",
        "\n",
        "     - In Python's built-in logging module, there are five common logging levels, each representing a different severity of events:\n",
        "\n",
        "\n",
        "       \n",
        "       Level\t           Numeric                               Value\tPurpose\n",
        "\n",
        "      DEBUG\t             10\t              Detailed information, typically useful for debugging.\n",
        "      INFO\t              20\t              General events to confirm the program is working as expected.\n",
        "      WARNING\t           30\t              An indication that something unexpected happened, but the program can still continue.\n",
        "      ERROR\t             40\t              A more serious issue, the program might not be able to perform a function.\n",
        "      CRITICAL\t          50\t              A very serious error, indicating the program may not be able to continue running."
      ],
      "metadata": {
        "id": "0lqesjMmMY9W"
      }
    },
    {
      "cell_type": "markdown",
      "source": [
        "18.  **What is the difference between os.fork() and multiprocessing in Python**\n",
        "\n",
        "   - The key difference between os.fork() and the multiprocessing module in Python lies in abstraction, portability, and safety.\n",
        "\n",
        " **os.fork()**\n",
        "\n",
        "            \n",
        "        Feature\t                                          Description\n",
        "\n",
        "      Platform\t                      UNIX/Linux only (not available on Windows).\n",
        "     \n",
        "      Usage\t                         Low-level system call to create a child process by duplicating the current process.\n",
        "     \n",
        "      Control\t                       Gives you manual control of child and parent processes. You must manage everything (like PID, process termination).\n",
        "     \n",
        "      Risk\t                        Error-prone if not used carefully — you handle inter-process communication (IPC), synchronization, etc., yourself.\n",
        "\n",
        "\n",
        " **multiprocessing module**  \n",
        "\n",
        "       Feature\t                                          Description\n",
        "  \n",
        "      Platform\t             Cross-platform (works on Windows, Linux, macOS).\n",
        "\n",
        "      High-level\t           Abstracts away system-level complexity.\n",
        "  \n",
        "      Data sharing\t         Built-in support for communication (e.g., Queue, Pipe) and process management.\n",
        "\n",
        "      Safe & Easy\tSafer and easier to use. You don’t deal with pid or system calls directly."
      ],
      "metadata": {
        "id": "P7d43VbvOC2c"
      }
    },
    {
      "cell_type": "markdown",
      "source": [
        "19. **What is the importance of closing a file in Python**  \n",
        "\n",
        "   - Closing a file in Python is very important for several reasons:\n",
        "\n",
        "    1. Frees Up System Resources\n",
        "\n",
        "Files take up system resources (like memory and file descriptors).\n",
        "\n",
        "Keeping files open unnecessarily can lead to resource leaks, especially in large applications or loops.  \n",
        "\n",
        "2. Ensures Data is Written (in write mode)\n",
        "\n",
        "When writing to a file, data is often buffered (temporarily stored in memory).\n",
        "\n",
        "close() ensures all the buffered data is flushed (written) to the file.\n",
        "\n",
        "  Without closing the file, some data might not be saved.\n",
        "\n",
        " 3. Prevents File Corruption\n",
        "\n",
        "Not closing a file properly may leave it in a corrupt or unreadable state, especially in write or append mode.\n",
        "\n",
        " 4. Avoids Hitting File Limit\n",
        "\n",
        "Most operating systems limit how many files you can open at once.\n",
        "\n",
        "Forgetting to close files in a loop can quickly exceed that limit and cause errors.\n",
        "\n"
      ],
      "metadata": {
        "id": "-gleMueEiXMh"
      }
    },
    {
      "cell_type": "markdown",
      "source": [
        "20. **What is the difference between file.read() and file.readline() in Python**\n",
        "\n",
        "    \n",
        "   - The difference between file.read() and file.readline() in Python lies in how much content they read from a file and how they do it:\n",
        "\n",
        "   file.read()\n",
        "\n",
        "🔹 Reads the entire file content (or a specified number of characters).\n",
        "\n",
        "       with open(\"example.txt\", \"r\") as f:\n",
        "          content = f.read()\n",
        "          print(content)   \n",
        "\n",
        "Use When:\n",
        "\n",
        "You want to read the whole file at once.\n",
        "\n",
        "The file is small enough to fit comfortably in memory.\n",
        "\n",
        "🔸 Optionally, you can pass an integer to read(n) to read up to n characters.  \n",
        "\n",
        "**file.readline()**  \n",
        "\n",
        "\n",
        " Reads just one line from the file at a time.  \n",
        "\n",
        "             \n",
        "      with open(\"example.txt\", \"r\") as f:\n",
        "          line1 = f.readline()\n",
        "          line2 = f.readline()\n",
        "          print(line1, line2)  \n",
        "\n",
        " Use When:\n",
        "\n",
        "You want to process the file line by line.\n",
        "\n",
        "You're dealing with large files or streaming data.\n",
        "\n",
        "🔸 The newline character (\\n) is included in the returned string (unless it's the last line without one)."
      ],
      "metadata": {
        "id": "XdPCeAARl4hm"
      }
    },
    {
      "cell_type": "markdown",
      "source": [
        "21.  What is the logging module in Python used for\n",
        "\n",
        "  - The logging module in Python is used to record messages from your program—like errors, warnings, debug information, or important events—to various outputs (console, files, etc.). It's essential for debugging, monitoring, and maintaining code, especially in larger applications.\n",
        "\n",
        "\n",
        " Key Purposes of logging:\n",
        "\n",
        "Track Events\n",
        "\n",
        "Log events while your code runs—especially unexpected behavior or issues.\n",
        "\n",
        "Debugging\n",
        "\n",
        "Helps trace problems in the code without stopping the program like print() might.\n",
        "\n",
        "Persistent Logging\n",
        "\n",
        "You can log to a file, allowing historical tracking and post-mortem analysis.\n",
        "\n",
        "Control Output Levels\n",
        "\n",
        "Log messages can be categorized (e.g., info, debug, warning, error, critical), and you can control what level gets shown."
      ],
      "metadata": {
        "id": "Ckh56rTpqKTF"
      }
    },
    {
      "cell_type": "markdown",
      "source": [
        "22.  ** What is the os module in Python used for in file handling**  \n",
        "\n",
        "The os module in Python provides a way to interact with the operating system, especially for tasks like file handling, directory manipulation, and path operations.\n",
        "\n",
        " Common Uses of os in File Handling\n",
        "\n",
        "        Function\t                                Description\n",
        "\n",
        "       os.getcwd()\t                        Get the current working directory\n",
        "       os.chdir(path)\t                      Change the current working directory\n",
        "       os.listdir(path)\t                    List all files/folders in a directory\n",
        "       os.mkdir(path) / os.makedirs()\t      Create a new directory (or nested directories with makedirs)\n",
        "       os.remove(file)\t                     Delete a file\n",
        "       os.rmdir(dir) / os.removedirs()\t     Remove a directory (or nested ones with removedirs)\n",
        "       os.path.exists(path)\t                 Check if a file or directory exists\n",
        "       os.path.isfile(path)\t                 Check if the path is a file\n",
        "       os.path.isdir(path)\t                 Check if the path is a directory\n",
        "       os.rename(src, dst)\t                 Rename or move a file or directory\n",
        "       os.path.join(dir, file)\t             Join paths safely (cross-platform)"
      ],
      "metadata": {
        "id": "29hLGD78rFoJ"
      }
    },
    {
      "cell_type": "markdown",
      "source": [
        "23.   **What are the challenges associated with memory management in Python**\n",
        "\n",
        "\n",
        "  - Memory management in Python is mostly handled by the Python memory manager and garbage collector, but there are still some challenges and pitfalls developers should be aware of:   \n",
        "\n",
        "  1. Memory Leaks\n",
        "\n",
        "Python is garbage collected, but memory leaks can still occur.\n",
        "\n",
        "Common causes:\n",
        "\n",
        "Global variables holding references longer than needed.\n",
        "\n",
        "Circular references that aren't immediately collected.\n",
        "\n",
        "C extension modules that don't free memory properly.  \n",
        "\n",
        "2. Memory Overhead\n",
        "\n",
        "Python objects carry extra metadata (e.g., type info, reference count), which adds overhead.\n",
        "\n",
        "Containers like lists or dictionaries use more memory than their C counterparts.\n",
        "\n",
        "3. Object Retention (Dangling References)\n",
        "\n",
        "Retaining references to unused objects prevents their collection.\n",
        "\n",
        "This leads to unused memory staying in RAM.\n",
        "\n",
        "4. Non-Deterministic Garbage Collection\n",
        "\n",
        "Python's cyclic garbage collector doesn't run on a strict schedule.\n",
        "\n",
        "This means memory might not be released exactly when it's no longer needed.\n",
        "\n",
        " 5. Mutable Default Arguments\n",
        "\n",
        "Can cause unexpected memory usage due to shared default mutable objects.\n",
        "\n",
        "6. Limited Control Compared to C/C++\n",
        "\n",
        "Developers have less manual control over memory allocation and deallocation.\n",
        "\n",
        "This abstraction simplifies development but can hide performance issues.\n"
      ],
      "metadata": {
        "id": "kv-RvMsjtJPJ"
      }
    },
    {
      "cell_type": "markdown",
      "source": [
        "24.   **How do you raise an exception manually in Python**  \n",
        "\n",
        "   - In Python, you can raise an exception manually using the raise keyword. This is useful when you want to signal that an error condition has occurred.\n",
        "\n"
      ],
      "metadata": {
        "id": "tr-foPXuvj2p"
      }
    },
    {
      "cell_type": "markdown",
      "source": [
        "25. **Why is it important to use multithreading in certain applications**   \n",
        "\n",
        "\n",
        "   -   Using multithreading in certain applications is important for the following key reasons:\n",
        "\n",
        " 1. Improved Responsiveness (Especially in GUI Applications)\n",
        "\n",
        "Multithreading allows the user interface to remain responsive while performing background tasks (e.g., downloading a file, loading data).\n",
        "\n",
        "Example: In a music player app, one thread can play music while another handles user interactions.\n",
        "\n",
        " 2. Better Resource Utilization\n",
        "\n",
        "Multithreading enables a program to perform multiple operations simultaneously, especially on multi-core CPUs, where threads can run truly in parallel.\n",
        "\n",
        " 3. Efficient I/O Handling\n",
        "\n",
        "When your application waits on I/O (e.g., file read/write, database, or network), other threads can continue processing without blocking.\n",
        "\n",
        " 4. Simplified Program Structure\n",
        "\n",
        "Certain real-world tasks are naturally concurrent (e.g., handling multiple clients on a server). Using threads can simplify the design of such programs.\n",
        "\n",
        " 5. Faster Execution (in I/O-bound tasks)\n",
        "\n",
        "In I/O-bound applications, using threads can significantly reduce wait times and improve overall throughput.\n",
        "\n",
        " Note:\n",
        "\n",
        "In CPU-bound tasks (heavy computation), Python's Global Interpreter Lock (GIL) limits the benefits of threading — in those cases, multiprocessing is more effective.\n",
        "\n"
      ],
      "metadata": {
        "id": "9Zb8mzolyRYm"
      }
    },
    {
      "cell_type": "code",
      "execution_count": null,
      "metadata": {
        "id": "-7Pw-9pxsMSS"
      },
      "outputs": [],
      "source": []
    },
    {
      "cell_type": "markdown",
      "source": [
        "# practical Question  \n",
        "\n",
        "\n",
        "---\n",
        "\n",
        "\n",
        "\n",
        "---\n",
        "\n"
      ],
      "metadata": {
        "id": "QdroW_VMziiM"
      }
    },
    {
      "cell_type": "markdown",
      "source": [
        "1. How can you open a file for writing in Python and write a string to it"
      ],
      "metadata": {
        "id": "xNm2d_tY0xuf"
      }
    },
    {
      "cell_type": "code",
      "source": [
        "# Open a file named 'example.txt' for writing\n",
        "with open('example.txt', 'w') as file:\n",
        "    file.write(\"Hello, this is a sample string written to the file.\")\n"
      ],
      "metadata": {
        "id": "7AdhvNGT0wwl"
      },
      "execution_count": null,
      "outputs": []
    },
    {
      "cell_type": "markdown",
      "source": [
        "2. Write a Python program to read the contents of a file and print each line"
      ],
      "metadata": {
        "id": "YOIPtbZ71LoG"
      }
    },
    {
      "cell_type": "code",
      "source": [
        "# Open the file in read mode\n",
        "with open('example.txt', 'r') as file:\n",
        "    # Loop through each line in the file\n",
        "    for line in file:\n",
        "        print(line.strip())  # strip() removes leading/trailing whitespace"
      ],
      "metadata": {
        "colab": {
          "base_uri": "https://localhost:8080/"
        },
        "id": "yYRUNC8S1Kev",
        "outputId": "6a2e6a61-fbd3-4d17-8933-002071222e01"
      },
      "execution_count": null,
      "outputs": [
        {
          "output_type": "stream",
          "name": "stdout",
          "text": [
            "Hello, this is a sample string written to the file.\n"
          ]
        }
      ]
    },
    {
      "cell_type": "markdown",
      "source": [
        "3.  How would you handle a case where the file doesn't exist while trying to open it for reading"
      ],
      "metadata": {
        "id": "OTnqjFGw1fSE"
      }
    },
    {
      "cell_type": "code",
      "source": [
        "filename = 'example.txt'\n",
        "\n",
        "try:\n",
        "    with open(filename, 'r') as file:\n",
        "        for line in file:\n",
        "            print(line.strip())\n",
        "except FileNotFoundError:\n",
        "    print(f\"Error: The file '{filename}' does not exist.\")"
      ],
      "metadata": {
        "colab": {
          "base_uri": "https://localhost:8080/"
        },
        "id": "eFhKzSQa1a71",
        "outputId": "b37bab18-5188-4dde-93d8-d5d91a595c98"
      },
      "execution_count": null,
      "outputs": [
        {
          "output_type": "stream",
          "name": "stdout",
          "text": [
            "Hello, this is a sample string written to the file.\n"
          ]
        }
      ]
    },
    {
      "cell_type": "markdown",
      "source": [
        "4. Write a Python script that reads from one file and writes its content to another file"
      ],
      "metadata": {
        "id": "nlcvqKzx1563"
      }
    },
    {
      "cell_type": "code",
      "source": [
        "# Define source and destination file paths\n",
        "source_file = 'source.txt'\n",
        "destination_file = 'destination.txt'\n",
        "\n",
        "try:\n",
        "    # Open source file in read mode and destination file in write mode\n",
        "    with open(source_file, 'r') as src, open(destination_file, 'w') as dest:\n",
        "        for line in src:\n",
        "            dest.write(line)\n",
        "    print(f\"Content copied from '{source_file}' to '{destination_file}' successfully.\")\n",
        "except FileNotFoundError:\n",
        "    print(f\"Error: '{source_file}' not found.\")\n",
        "except Exception as e:\n",
        "    print(f\"An unexpected error occurred: {e}\")"
      ],
      "metadata": {
        "colab": {
          "base_uri": "https://localhost:8080/"
        },
        "id": "bp_IThhT117x",
        "outputId": "83827da9-4876-4c6e-bce3-639e002b77c9"
      },
      "execution_count": null,
      "outputs": [
        {
          "output_type": "stream",
          "name": "stdout",
          "text": [
            "Error: 'source.txt' not found.\n"
          ]
        }
      ]
    },
    {
      "cell_type": "markdown",
      "source": [
        "5. How would you catch and handle division by zero error in Python"
      ],
      "metadata": {
        "id": "5AHR3fmu2WGG"
      }
    },
    {
      "cell_type": "code",
      "source": [
        "try:\n",
        "    numerator = 10\n",
        "    denominator = 0\n",
        "    result = numerator / denominator\n",
        "    print(\"Result:\", result)\n",
        "except ZeroDivisionError:\n",
        "    print(\"Error: Cannot divide by zero.\")"
      ],
      "metadata": {
        "colab": {
          "base_uri": "https://localhost:8080/"
        },
        "id": "tSZJUSpz2ULE",
        "outputId": "0da34069-7aab-45c2-894b-82715a439cc4"
      },
      "execution_count": null,
      "outputs": [
        {
          "output_type": "stream",
          "name": "stdout",
          "text": [
            "Error: Cannot divide by zero.\n"
          ]
        }
      ]
    },
    {
      "cell_type": "markdown",
      "source": [
        "6. Write a Python program that logs an error message to a log file when a division by zero exception occurs"
      ],
      "metadata": {
        "id": "kxXGmcJ72nMo"
      }
    },
    {
      "cell_type": "code",
      "source": [
        "import logging\n",
        "\n",
        "# Configure logging\n",
        "logging.basicConfig(\n",
        "    filename='error_log.log',       # Log file name\n",
        "    level=logging.ERROR,            # Log only ERROR level and above\n",
        "    format='%(asctime)s - %(levelname)s - %(message)s'\n",
        ")\n"
      ],
      "metadata": {
        "id": "Xf_17ZXJ2kGE"
      },
      "execution_count": null,
      "outputs": []
    },
    {
      "cell_type": "markdown",
      "source": [
        "7. How do you log information at different levels (INFO, ERROR, WARNING) in Python using the logging module"
      ],
      "metadata": {
        "id": "Kpco4MLu2_0W"
      }
    },
    {
      "cell_type": "code",
      "source": [
        "import logging\n",
        "\n",
        "# Configure logging\n",
        "logging.basicConfig(\n",
        "    filename='app_log.log',     # Log output file\n",
        "    level=logging.DEBUG,        # Capture all levels DEBUG and above\n",
        "    format='%(asctime)s - %(levelname)s - %(message)s'\n",
        ")\n",
        "\n",
        "# Log messages at different levels\n",
        "logging.debug(\"This is a DEBUG message.\")\n",
        "logging.info(\"This is an INFO message.\")\n",
        "logging.warning(\"This is a WARNING message.\")\n",
        "logging.error(\"This is an ERROR message.\")\n",
        "logging.critical(\"This is a CRITICAL message.\")"
      ],
      "metadata": {
        "colab": {
          "base_uri": "https://localhost:8080/"
        },
        "id": "rHTBq_SQ28bw",
        "outputId": "82787a7d-609d-4ec7-f0d5-77a19068f415"
      },
      "execution_count": null,
      "outputs": [
        {
          "output_type": "stream",
          "name": "stderr",
          "text": [
            "WARNING:root:This is a WARNING message.\n",
            "ERROR:root:This is an ERROR message.\n",
            "CRITICAL:root:This is a CRITICAL message.\n"
          ]
        }
      ]
    },
    {
      "cell_type": "markdown",
      "source": [
        "8. Write a program to handle a file opening error using exception handling"
      ],
      "metadata": {
        "id": "aTLfnvHc4Dqh"
      }
    },
    {
      "cell_type": "code",
      "source": [
        "def read_file(filename):\n",
        "    try:\n",
        "        with open(filename, 'r') as file:\n",
        "            content = file.read()\n",
        "            print(\"File content:\")\n",
        "            print(content)\n",
        "    except FileNotFoundError:\n",
        "        print(f\"Error: The file '{filename}' was not found.\")\n",
        "    except IOError:\n",
        "        print(f\"Error: An I/O error occurred while opening '{filename}'.\")\n",
        "\n",
        "# Test the function\n",
        "read_file(\"example.txt\")  # Replace with a real or fake filename to test\n"
      ],
      "metadata": {
        "colab": {
          "base_uri": "https://localhost:8080/"
        },
        "id": "RGPR-41v35mY",
        "outputId": "afbbc46f-8bce-4e60-a52b-40d9ff7dd145"
      },
      "execution_count": null,
      "outputs": [
        {
          "output_type": "stream",
          "name": "stdout",
          "text": [
            "File content:\n",
            "Hello, this is a sample string written to the file.\n"
          ]
        }
      ]
    },
    {
      "cell_type": "markdown",
      "source": [
        "9.  How can you read a file line by line and store its content in a list in Python\n"
      ],
      "metadata": {
        "id": "EaIXGGcY4wxi"
      }
    },
    {
      "cell_type": "code",
      "source": [
        "#Method 1: Using readlines()\n",
        "def read_file_to_list(filename):\n",
        "    try:\n",
        "        with open(filename, 'r') as file:\n",
        "            lines = file.readlines()  # Reads all lines into a list\n",
        "            return [line.strip() for line in lines]  # Removes newline characters\n",
        "    except FileNotFoundError:\n",
        "        print(f\"Error: File '{filename}' not found.\")\n",
        "        return []\n",
        "\n",
        "# Example usage\n",
        "lines_list = read_file_to_list(\"sample.txt\")\n",
        "print(lines_list)"
      ],
      "metadata": {
        "colab": {
          "base_uri": "https://localhost:8080/"
        },
        "id": "Q167SSyR4tun",
        "outputId": "1fdf70e0-7e3e-43b8-f96e-f39af0848c5e"
      },
      "execution_count": null,
      "outputs": [
        {
          "output_type": "stream",
          "name": "stdout",
          "text": [
            "Error: File 'sample.txt' not found.\n",
            "[]\n"
          ]
        }
      ]
    },
    {
      "cell_type": "code",
      "source": [
        "#Method 2: Using a loop\n",
        "def read_file_to_list(filename):\n",
        "    lines = []\n",
        "    try:\n",
        "        with open(filename, 'r') as file:\n",
        "            for line in file:\n",
        "                lines.append(line.strip())\n",
        "        return lines\n",
        "    except FileNotFoundError:\n",
        "        print(f\"Error: File '{filename}' not found.\")\n",
        "        return []\n",
        "\n",
        "# Example usage\n",
        "lines_list = read_file_to_list(\"sample.txt\")\n",
        "print(lines_list)"
      ],
      "metadata": {
        "colab": {
          "base_uri": "https://localhost:8080/"
        },
        "id": "0tzi9vS05e7S",
        "outputId": "425ae875-3ad5-45c9-a681-137de772de67"
      },
      "execution_count": null,
      "outputs": [
        {
          "output_type": "stream",
          "name": "stdout",
          "text": [
            "Error: File 'sample.txt' not found.\n",
            "[]\n"
          ]
        }
      ]
    },
    {
      "cell_type": "markdown",
      "source": [
        "10. How can you append data to an existing file in Python\n"
      ],
      "metadata": {
        "id": "b1y8Fd-M6D_E"
      }
    },
    {
      "cell_type": "code",
      "source": [
        "def append_to_file(filename, data):\n",
        "    try:\n",
        "        with open(filename, 'a') as file:\n",
        "            file.write(data + '\\n')  # Appends a new line\n",
        "        print(\"Data appended successfully.\")\n",
        "    except Exception as e:\n",
        "        print(f\"An error occurred: {e}\")\n",
        "\n",
        "# Example usage\n",
        "append_to_file('example.txt', 'This is a new line added to the file.')"
      ],
      "metadata": {
        "colab": {
          "base_uri": "https://localhost:8080/"
        },
        "id": "KehhKauB52PM",
        "outputId": "722c2405-af40-4d57-ddb7-37ddaa7277a4"
      },
      "execution_count": null,
      "outputs": [
        {
          "output_type": "stream",
          "name": "stdout",
          "text": [
            "Data appended successfully.\n"
          ]
        }
      ]
    },
    {
      "cell_type": "markdown",
      "source": [
        "11. Write a Python program that uses a try-except block to handle an error when attempting to access a dictionary key that doesn't exist"
      ],
      "metadata": {
        "id": "4QfLPLTp76Qe"
      }
    },
    {
      "cell_type": "code",
      "source": [
        "def get_value_from_dict(dictionary, key):\n",
        "    try:\n",
        "        value = dictionary[key]\n",
        "        print(f\"The value for key '{key}' is: {value}\")\n",
        "    except KeyError:\n",
        "        print(f\"Error: The key '{key}' does not exist in the dictionary.\")\n",
        "\n",
        "# Example dictionary\n",
        "my_dict = {\n",
        "    \"name\": \"Alice\",\n",
        "    \"age\": 30,\n",
        "    \"city\": \"New York\"\n",
        "}\n",
        "\n",
        "# Attempt to access a key\n",
        "get_value_from_dict(my_dict, \"country\")  # Key does not exist\n",
        "get_value_from_dict(my_dict, \"name\")     # Key exists\n"
      ],
      "metadata": {
        "colab": {
          "base_uri": "https://localhost:8080/"
        },
        "id": "au-mriXN74rN",
        "outputId": "9f0f2951-0df3-440a-e37f-41771c0b6215"
      },
      "execution_count": null,
      "outputs": [
        {
          "output_type": "stream",
          "name": "stdout",
          "text": [
            "Error: The key 'country' does not exist in the dictionary.\n",
            "The value for key 'name' is: Alice\n"
          ]
        }
      ]
    },
    {
      "cell_type": "markdown",
      "source": [
        "12. Write a program that demonstrates using multiple except blocks to handle different types of exceptions"
      ],
      "metadata": {
        "id": "XRkWPxvn8cWD"
      }
    },
    {
      "cell_type": "code",
      "source": [
        "def divide_numbers():\n",
        "    try:\n",
        "        num1 = int(input(\"Enter numerator: \"))\n",
        "        num2 = int(input(\"Enter denominator: \"))\n",
        "        result = num1 / num2\n",
        "        print(f\"Result: {result}\")\n",
        "    except ZeroDivisionError:\n",
        "        print(\"Error: Cannot divide by zero.\")\n",
        "    except ValueError:\n",
        "        print(\"Error: Invalid input. Please enter integers only.\")\n",
        "    except Exception as e:\n",
        "        print(f\"Unexpected error: {e}\")\n",
        "\n",
        "# Run the function\n",
        "divide_numbers()"
      ],
      "metadata": {
        "id": "2JhREJ158XHt"
      },
      "execution_count": null,
      "outputs": []
    },
    {
      "cell_type": "markdown",
      "source": [
        "13. How would you check if a file exists before attempting to read it in Python"
      ],
      "metadata": {
        "id": "YG2UbAcQ9ODZ"
      }
    },
    {
      "cell_type": "code",
      "source": [
        "import os\n",
        "\n",
        "file_path = 'example.txt'\n",
        "\n",
        "if os.path.exists(file_path):\n",
        "    with open(file_path, 'r') as file:\n",
        "        content = file.read()\n",
        "        print(content)\n",
        "else:\n",
        "    print(\"File does not exist.\")"
      ],
      "metadata": {
        "id": "hegoI8pn9KUX"
      },
      "execution_count": null,
      "outputs": []
    },
    {
      "cell_type": "code",
      "source": [
        "from pathlib import Path\n",
        "\n",
        "file_path = Path('example.txt')\n",
        "\n",
        "if file_path.exists():\n",
        "    with file_path.open('r') as file:\n",
        "        content = file.read()\n",
        "        print(content)\n",
        "else:\n",
        "    print(\"File does not exist.\")"
      ],
      "metadata": {
        "id": "rmVRsIww9lND"
      },
      "execution_count": null,
      "outputs": []
    },
    {
      "cell_type": "markdown",
      "source": [
        "14.  Write a program that uses the logging module to log both informational and error messages"
      ],
      "metadata": {
        "id": "-4OQQ4qh9tql"
      }
    },
    {
      "cell_type": "code",
      "source": [
        "import logging\n",
        "\n",
        "# Configure logging\n",
        "logging.basicConfig(\n",
        "    filename='app.log',              # Log file name\n",
        "    level=logging.DEBUG,             # Minimum level to capture\n",
        "    format='%(asctime)s - %(levelname)s - %(message)s'  # Log format\n",
        ")\n",
        "\n",
        "# Logging informational message\n",
        "logging.info(\"Program started successfully.\")\n",
        "\n",
        "try:\n",
        "    x = 10\n",
        "    y = 0\n",
        "    result = x / y  # This will raise a ZeroDivisionError\n",
        "except ZeroDivisionError as e:\n",
        "    logging.error(\"Division by zero error occurred: %s\", e)\n",
        "\n",
        "logging.info(\"Program ended.\")"
      ],
      "metadata": {
        "id": "_6Cllcy69rVB"
      },
      "execution_count": null,
      "outputs": []
    },
    {
      "cell_type": "markdown",
      "source": [
        "15. Write a Python program that prints the content of a file and handles the case when the file is empty"
      ],
      "metadata": {
        "id": "cfhdP5m6AKt9"
      }
    },
    {
      "cell_type": "code",
      "source": [
        "def read_file_content(filename):\n",
        "    try:\n",
        "        with open(filename, 'r') as file:\n",
        "            content = file.read()\n",
        "\n",
        "            if content.strip() == \"\":\n",
        "                print(\"The file is empty.\")\n",
        "            else:\n",
        "                print(\"File content:\\n\")\n",
        "                print(content)\n",
        "\n",
        "    except FileNotFoundError:\n",
        "        print(f\"Error: The file '{filename}' does not exist.\")\n",
        "    except Exception as e:\n",
        "        print(f\"An unexpected error occurred: {e}\")\n",
        "\n",
        "# Example usage\n",
        "file_path = 'example.txt'  # Change this to your file path\n",
        "read_file_content(file_path)"
      ],
      "metadata": {
        "id": "LE33bjTLADXz"
      },
      "execution_count": null,
      "outputs": []
    },
    {
      "cell_type": "markdown",
      "source": [
        "16.  Demonstrate how to use memory profiling to check the memory usage of a small program"
      ],
      "metadata": {
        "id": "C8cr4XMcBL_C"
      }
    },
    {
      "cell_type": "code",
      "source": [
        "# memory_example.py\n",
        "\n",
        "from memory_profiler import profile\n",
        "\n",
        "@profile\n",
        "def create_large_list():\n",
        "    large_list = [i for i in range(1000000)]\n",
        "    return sum(large_list)\n",
        "\n",
        "if __name__ == \"__main__\":\n",
        "    create_large_list()"
      ],
      "metadata": {
        "id": "2OGkut_WA9An"
      },
      "execution_count": null,
      "outputs": []
    },
    {
      "cell_type": "code",
      "source": [],
      "metadata": {
        "id": "4QDMC6A-CUfs"
      },
      "execution_count": null,
      "outputs": []
    },
    {
      "cell_type": "markdown",
      "source": [
        "17. Write a Python program to create and write a list of numbers to a file, one number per line"
      ],
      "metadata": {
        "id": "E3j7hsTtCXIE"
      }
    },
    {
      "cell_type": "code",
      "source": [
        "# Create a list of numbers\n",
        "numbers = [10, 20, 30, 40, 50]\n",
        "\n",
        "# Open a file in write mode\n",
        "with open(\"numbers.txt\", \"w\") as file:\n",
        "    for number in numbers:\n",
        "        file.write(str(number) + \"\\n\")\n",
        "\n",
        "print(\"Numbers written to file successfully.\")"
      ],
      "metadata": {
        "id": "YJkR5GS5DB3q"
      },
      "execution_count": null,
      "outputs": []
    },
    {
      "cell_type": "markdown",
      "source": [
        "18. How would you implement a basic logging setup that logs to a file with rotation after 1MB"
      ],
      "metadata": {
        "id": "hr_YBhf0D6kc"
      }
    },
    {
      "cell_type": "code",
      "source": [
        "import logging\n",
        "from logging.handlers import RotatingFileHandler\n",
        "\n",
        "# Set up a rotating logger\n",
        "logger = logging.getLogger(\"MyLogger\")\n",
        "logger.setLevel(logging.DEBUG)  # Log all levels: DEBUG, INFO, WARNING, ERROR, CRITICAL\n",
        "\n",
        "# Create handler with rotation: max 1MB per file, keep up to 3 backups\n",
        "handler = RotatingFileHandler(\"my_app.log\", maxBytes=1_000_000, backupCount=3)\n",
        "\n",
        "# Set logging format\n",
        "formatter = logging.Formatter('%(asctime)s - %(levelname)s - %(message)s')\n",
        "handler.setFormatter(formatter)\n",
        "\n",
        "# Add handler to logger\n",
        "logger.addHandler(handler)\n",
        "\n",
        "# Example logging\n",
        "for i in range(10000):\n",
        "    logger.info(f\"This is log message number {i}\")"
      ],
      "metadata": {
        "id": "3M1_gN-_DmXo"
      },
      "execution_count": null,
      "outputs": []
    },
    {
      "cell_type": "markdown",
      "source": [
        "19. Write a program that handles both IndexError and KeyError using a try-except block"
      ],
      "metadata": {
        "id": "cQkO3me4EnPh"
      }
    },
    {
      "cell_type": "code",
      "source": [
        "def handle_exceptions():\n",
        "    my_list = [10, 20, 30]\n",
        "    my_dict = {'a': 1, 'b': 2}\n",
        "\n",
        "    try:\n",
        "        # Attempt to access an invalid index in the list\n",
        "        print(\"List element at index 5:\", my_list[5])\n",
        "\n",
        "        # Attempt to access a non-existing key in the dictionary\n",
        "        print(\"Value for key 'z':\", my_dict['z'])\n",
        "\n",
        "    except IndexError as ie:\n",
        "        print(\"IndexError occurred:\", ie)\n",
        "\n",
        "    except KeyError as ke:\n",
        "        print(\"KeyError occurred:\", ke)\n",
        "\n",
        "# Run the function\n",
        "handle_exceptions()"
      ],
      "metadata": {
        "id": "t64-9ReeEkFc"
      },
      "execution_count": null,
      "outputs": []
    },
    {
      "cell_type": "markdown",
      "source": [
        "20. How would you open a file and read its contents using a context manager in Python"
      ],
      "metadata": {
        "id": "aPJEvt6MFGvz"
      }
    },
    {
      "cell_type": "code",
      "source": [
        "# Reading Entire File\n",
        "file_path = 'example.txt'\n",
        "\n",
        "with open(file_path, 'r') as file:\n",
        "    contents = file.read()\n",
        "    print(contents)"
      ],
      "metadata": {
        "id": "ZfJbzYjiFFPB"
      },
      "execution_count": null,
      "outputs": []
    },
    {
      "cell_type": "code",
      "source": [
        "#Reading File Line by Line\n",
        "file_path = 'example.txt'\n",
        "\n",
        "with open(file_path, 'r') as file:\n",
        "    for line in file:\n",
        "        print(line.strip())  # `strip()` removes newline characters"
      ],
      "metadata": {
        "id": "kEDMS30TFjoW"
      },
      "execution_count": null,
      "outputs": []
    },
    {
      "cell_type": "markdown",
      "source": [
        "21. Write a Python program that reads a file and prints the number of occurrences of a specific word"
      ],
      "metadata": {
        "id": "0W72LF4eGzFo"
      }
    },
    {
      "cell_type": "code",
      "source": [
        "def count_word_occurrences(filename, target_word):\n",
        "    count = 0\n",
        "    try:\n",
        "        with open(filename, 'r') as file:\n",
        "            for line in file:\n",
        "                words = line.lower().split()\n",
        "                count += words.count(target_word.lower())\n",
        "        print(f\"The word '{target_word}' occurred {count} times.\")\n",
        "    except FileNotFoundError:\n",
        "        print(\"File not found. Please check the filename or path.\")\n",
        "\n",
        "# Example usage\n",
        "filename = 'example.txt'       # Replace with your file name\n",
        "word_to_search = 'python'      # Replace with the word you want to count\n",
        "count_word_occurrences(filename, word_to_search)"
      ],
      "metadata": {
        "id": "fBtlV5BOGech"
      },
      "execution_count": null,
      "outputs": []
    },
    {
      "cell_type": "markdown",
      "source": [
        "22. How can you check if a file is empty before attempting to read its contents"
      ],
      "metadata": {
        "id": "W5NYcBKDHTL3"
      }
    },
    {
      "cell_type": "code",
      "source": [
        "import os\n",
        "\n",
        "file_path = 'example.txt'  # Replace with your file name\n",
        "\n",
        "if os.path.exists(file_path):\n",
        "    if os.path.getsize(file_path) == 0:\n",
        "        print(\"The file is empty.\")\n",
        "    else:\n",
        "        with open(file_path, 'r') as file:\n",
        "            contents = file.read()\n",
        "            print(\"File contents:\\n\", contents)\n",
        "else:\n",
        "    print(\"File does not exist.\")"
      ],
      "metadata": {
        "id": "eIpGzdtOGqnt"
      },
      "execution_count": null,
      "outputs": []
    },
    {
      "cell_type": "markdown",
      "source": [
        "23.  Write a Python program that writes to a log file when an error occurs during file handling."
      ],
      "metadata": {
        "id": "Ehai-37oHuyB"
      }
    },
    {
      "cell_type": "code",
      "source": [
        "import logging\n",
        "\n",
        "# Configure logging to log errors to a file\n",
        "logging.basicConfig(\n",
        "    filename='file_handling_errors.log',\n",
        "    level=logging.ERROR,\n",
        "    format='%(asctime)s - %(levelname)s - %(message)s'\n",
        ")\n",
        "\n",
        "file_path = 'nonexistent_file.txt'  # Change to a file that doesn't exist\n",
        "\n",
        "try:\n",
        "    with open(file_path, 'r') as file:\n",
        "        content = file.read()\n",
        "        print(content)\n",
        "\n",
        "except FileNotFoundError as e:\n",
        "    logging.error(f\"FileNotFoundError: Could not open file '{file_path}': {e}\")\n",
        "    print(\"Error: File not found.\")\n",
        "\n",
        "except Exception as e:\n",
        "    logging.error(f\"An unexpected error occurred: {e}\")\n",
        "    print(\"An unexpected error occurred. Check the log file.\")\n"
      ],
      "metadata": {
        "id": "KNHrjLEfHqzS"
      },
      "execution_count": null,
      "outputs": []
    },
    {
      "cell_type": "code",
      "source": [],
      "metadata": {
        "id": "3R1-rKnnIFqS"
      },
      "execution_count": null,
      "outputs": []
    }
  ]
}